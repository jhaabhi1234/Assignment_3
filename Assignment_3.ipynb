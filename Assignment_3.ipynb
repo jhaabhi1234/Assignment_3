{
 "cells": [
  {
   "cell_type": "code",
   "execution_count": null,
   "id": "b42d4b26-93f4-4b6a-8e4e-4beff87ceff9",
   "metadata": {},
   "outputs": [],
   "source": [
    "1. Why are functions advantageous to have in your programs?"
   ]
  },
  {
   "cell_type": "code",
   "execution_count": null,
   "id": "50c5dce6-ae4d-46cc-b092-c70de6cdaaf2",
   "metadata": {},
   "outputs": [],
   "source": [
    "Modularity and Reusability: Functions allow you to break down a complex program into smaller, manageable modules.\n",
    "Abstraction: Functions allow you to hide the implementation details of a certain functionality and provide a higher-level interface. This abstraction makes it easier to work with complex tasks without needing to understand all the inner workings of the function.\n",
    "Code Reusability: Functions promote code reusability. Once you write a function to perform a specific task, you can call it multiple times within your program or use it in other projects.\n",
    "Scoping: Functions provide local scoping, which means that variables defined within a function are limited to that function's scope. This prevents naming conflicts with variables in other parts of the program, leading to more robust and less error-prone code.\n",
    "Testing and Debugging: Functions make it easier to test and debug your code. \n",
    "Collaboration: When working on a project with multiple developers, using functions allows each team member to work on different functions simultaneously.\n",
    "Code Understandability: Functions enable you to provide clear documentation and docstrings, explaining what each function does, its input parameters, and the expected output.\n"
   ]
  },
  {
   "cell_type": "code",
   "execution_count": null,
   "id": "3811e868-6621-4fe4-904b-3fe2a99bf957",
   "metadata": {},
   "outputs": [],
   "source": [
    "2. When does the code in a function run: when it&#39;s specified or when it&#39;s called?"
   ]
  },
  {
   "cell_type": "code",
   "execution_count": null,
   "id": "dcb175e3-b385-4ee6-bd76-28e741354b64",
   "metadata": {},
   "outputs": [],
   "source": [
    "The code in a function runs when the function is called, not when it is specified or defined."
   ]
  },
  {
   "cell_type": "code",
   "execution_count": null,
   "id": "b928bbc5-7951-4c79-9b70-084f0fb7734e",
   "metadata": {},
   "outputs": [],
   "source": [
    "3.What statement creates a function?"
   ]
  },
  {
   "cell_type": "code",
   "execution_count": null,
   "id": "f8cd010c-250d-4250-af88-393f85ffef8e",
   "metadata": {},
   "outputs": [],
   "source": [
    "The def statement creates a function in Python. The def keyword is used to define a new user-defined function in Python."
   ]
  },
  {
   "cell_type": "code",
   "execution_count": null,
   "id": "2689e709-273a-451e-89fc-4f60c7c0f853",
   "metadata": {},
   "outputs": [],
   "source": [
    "4. What is the difference between a function and a function call?"
   ]
  },
  {
   "cell_type": "code",
   "execution_count": null,
   "id": "28341e0e-434d-46ad-a178-72f3cc025730",
   "metadata": {},
   "outputs": [],
   "source": [
    "A function is a reusable block of code that performs a specific task or set of tasks.\n",
    "\n",
    "A function call is the act of executing the code inside the function and running the specific task defined in the function's body.\n",
    "It is performed by using the function name followed by parentheses () with any necessary arguments inside them."
   ]
  },
  {
   "cell_type": "code",
   "execution_count": null,
   "id": "2a495350-b1e6-4cc8-b164-224af6612eb4",
   "metadata": {},
   "outputs": [],
   "source": [
    "5. How many global scopes are there in a Python program? How many local scopes?"
   ]
  },
  {
   "cell_type": "code",
   "execution_count": null,
   "id": "40847fb5-ebab-4677-b91a-d6cad377c065",
   "metadata": {},
   "outputs": [],
   "source": [
    "There is one global scope in a Python program, which lasts throughout the program's execution.\n",
    "There can be multiple local scopes, each created when a function is called and existing only during the function's execution. Local variables are limited to their specific function's scope and cannot be accessed outside of it. \n",
    "Global variables, on the other hand, are accessible from anywhere in the program"
   ]
  },
  {
   "cell_type": "code",
   "execution_count": null,
   "id": "e6b11def-2d7a-46ce-bd1b-17fdb1d05cb3",
   "metadata": {},
   "outputs": [],
   "source": [
    "6. What happens to variables in a local scope when the function call returns?"
   ]
  },
  {
   "cell_type": "code",
   "execution_count": null,
   "id": "7f12bcee-c668-47e9-a44c-9dc52cd059f3",
   "metadata": {},
   "outputs": [],
   "source": [
    "Local variables in a function's local scope are temporary and exist only during the execution of the function. They are automatically deallocated and become inaccessible once the function call returns."
   ]
  },
  {
   "cell_type": "code",
   "execution_count": null,
   "id": "8c0e5eff-ccba-43ec-9801-b5864970c0f4",
   "metadata": {},
   "outputs": [],
   "source": [
    "7. What is the concept of a return value? Is it possible to have a return value in an expression?\n"
   ]
  },
  {
   "cell_type": "code",
   "execution_count": null,
   "id": "3188b36a-ea24-44e5-b269-f9e6a10809ba",
   "metadata": {},
   "outputs": [],
   "source": [
    "The concept of a return value is related to functions in programming. In Python, a function can return a value after performing its designated tasks or calculations. When a function is called, it may take some arguments as inputs, and after processing those inputs, it can produce an output value, which is referred to as the \"return value\" of the function.\n",
    "yes, it is possible to have a return value in an expression. In Python, you can use a function call as part of an expression and directly use the return value in other operations or assignments. For example:"
   ]
  },
  {
   "cell_type": "code",
   "execution_count": null,
   "id": "2e3e0908-3f2a-4859-9027-ad1c90c0ece9",
   "metadata": {},
   "outputs": [],
   "source": [
    "8. If a function does not have a return statement, what is the return value of a call to that function?"
   ]
  },
  {
   "cell_type": "code",
   "execution_count": null,
   "id": "f2a3662e-0674-443f-871e-90671226bcd9",
   "metadata": {},
   "outputs": [],
   "source": [
    "If a function in Python does not have a return statement, the function will still execute its code and perform any operations specified within it. However, without a return statement, the function will not explicitly return any value. \n",
    "In this case, the function call will result in a special value called None being returned implicitly."
   ]
  },
  {
   "cell_type": "code",
   "execution_count": null,
   "id": "0ebe7323-5ac4-4df8-812b-8ea5e227847f",
   "metadata": {},
   "outputs": [],
   "source": [
    "9. How do you make a function variable refer to the global variable?"
   ]
  },
  {
   "cell_type": "code",
   "execution_count": null,
   "id": "13906888-f343-4454-8146-177cfe7db36a",
   "metadata": {},
   "outputs": [],
   "source": [
    "In Python, if you want to access or modify a global variable from within a function, you need to explicitly indicate that you are referring to the global variable. This is done using the global keyword.\n",
    "\n",
    "To make a function variable refer to the global variable, you can follow these steps:\n",
    "\n",
    "Use the global keyword inside the function before referencing or modifying the global variable.\n",
    "Assign the value to the global variable using the function variable."
   ]
  },
  {
   "cell_type": "code",
   "execution_count": null,
   "id": "c70cdb64-d175-49c8-a7a7-1b79f69c4a21",
   "metadata": {},
   "outputs": [],
   "source": [
    "10. What is the data type of None?\n"
   ]
  },
  {
   "cell_type": "code",
   "execution_count": null,
   "id": "894e4250-3799-42c4-a4a6-04a49e149f68",
   "metadata": {},
   "outputs": [],
   "source": [
    "The data type of None is called NoneType"
   ]
  },
  {
   "cell_type": "code",
   "execution_count": null,
   "id": "f78e91f0-3e62-4ca4-b344-cfbfcbb6d9d6",
   "metadata": {},
   "outputs": [],
   "source": [
    "11. What does the sentence import areallyourpetsnamederic do?"
   ]
  },
  {
   "cell_type": "code",
   "execution_count": null,
   "id": "3d8706c8-9948-4237-bfda-7a7aa591aa03",
   "metadata": {},
   "outputs": [],
   "source": [
    "In Python, the \"import\" statement is used to bring in functionality from other modules or packages, making it available for use in the current script. However, the specific functionality or purpose of the \"areallyourpetsnamederic\" module would depend on how it was implemented.\n",
    "It's possible that \"areallyourpetsnamederic\" might be a custom module created by someone."
   ]
  },
  {
   "cell_type": "code",
   "execution_count": null,
   "id": "eb3688f4-89a8-44d0-aa3a-4269164c27df",
   "metadata": {},
   "outputs": [],
   "source": [
    "12. If you had a bacon() feature in a spam module, what would you call it after importing spam?"
   ]
  },
  {
   "cell_type": "code",
   "execution_count": null,
   "id": "45ab1b4d-9716-4d03-9df7-0b175bdef5ee",
   "metadata": {},
   "outputs": [],
   "source": [
    "After importing the \"spam\" module in Python, you can access the \"bacon()\" feature using the dot notation. Here's how you would call the \"bacon()\" function from the \"spam\" module:\n",
    "\n",
    "import spam\n",
    "\n",
    "spam.bacon()\n"
   ]
  },
  {
   "cell_type": "code",
   "execution_count": null,
   "id": "18642d75-29d3-4783-8eaf-b7303a2c2bad",
   "metadata": {},
   "outputs": [],
   "source": [
    "13. What can you do to save a programme from crashing if it encounters an error?"
   ]
  },
  {
   "cell_type": "code",
   "execution_count": null,
   "id": "90ea9e3e-d316-4e54-bec1-e446d73caa01",
   "metadata": {},
   "outputs": [],
   "source": [
    " In Python, the standard way to handle exceptions is by using the try, except, and optionally finally blocks.\n",
    "    By using exception handling, you can isolate and handle errors appropriately, allowing your program to continue executing even if some parts encounter issues. This can help you save the program from crashing and provide more robust behavior in response to errors.\n",
    "    "
   ]
  },
  {
   "cell_type": "code",
   "execution_count": null,
   "id": "119b3a79-0fce-4553-ae39-ecdca2c9aac7",
   "metadata": {},
   "outputs": [],
   "source": [
    "14. What is the purpose of the try clause? What is the purpose of the except clause?"
   ]
  },
  {
   "cell_type": "code",
   "execution_count": null,
   "id": "baf963c8-67e6-434f-b887-578510258f1d",
   "metadata": {},
   "outputs": [],
   "source": [
    "Purpose of the try clause:\n",
    "The try clause is used to enclose the code that might raise an exception. It marks the section of code where you expect a potential error to occur. If an exception occurs within the try block, the program jumps immediately to the appropriate except block, and the remaining code in the try block is skipped.\n",
    "\n",
    "Purpose of the except clause:\n",
    "The except clause follows the try block and is used to define what should happen when a specific type of exception is raised. You can have multiple except blocks to handle different types of exceptions. If the type of exception matches any of the specified except blocks, the corresponding block is executed.\n"
   ]
  },
  {
   "cell_type": "code",
   "execution_count": null,
   "id": "c1d79d8f-2dd3-4176-88f1-347e549130f6",
   "metadata": {},
   "outputs": [],
   "source": []
  }
 ],
 "metadata": {
  "kernelspec": {
   "display_name": "Python 3 (ipykernel)",
   "language": "python",
   "name": "python3"
  },
  "language_info": {
   "codemirror_mode": {
    "name": "ipython",
    "version": 3
   },
   "file_extension": ".py",
   "mimetype": "text/x-python",
   "name": "python",
   "nbconvert_exporter": "python",
   "pygments_lexer": "ipython3",
   "version": "3.10.6"
  }
 },
 "nbformat": 4,
 "nbformat_minor": 5
}
